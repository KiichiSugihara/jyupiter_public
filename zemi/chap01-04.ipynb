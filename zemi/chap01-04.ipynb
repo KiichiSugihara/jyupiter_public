{
 "cells": [
  {
   "cell_type": "markdown",
   "metadata": {},
   "source": [
    "１. Hello, World! 以外の何かを画面に表示しよう。"
   ]
  },
  {
   "cell_type": "code",
   "execution_count": 1,
   "metadata": {},
   "outputs": [
    {
     "name": "stdout",
     "output_type": "stream",
     "text": [
      "oh my god\n"
     ]
    }
   ],
   "source": [
    "print ( \"oh my god\" )"
   ]
  },
  {
   "cell_type": "markdown",
   "metadata": {},
   "source": [
    "解答：http://tinyurl.com/noeujfu"
   ]
  },
  {
   "cell_type": "markdown",
   "metadata": {},
   "source": [
    "２. ３つの異なる文字列を出力しよう。"
   ]
  },
  {
   "cell_type": "code",
   "execution_count": 3,
   "metadata": {},
   "outputs": [
    {
     "name": "stdout",
     "output_type": "stream",
     "text": [
      "good\n",
      "yes\n"
     ]
    }
   ],
   "source": [
    "print (\"good\") \n",
    "print (\"yes\")"
   ]
  },
  {
   "cell_type": "markdown",
   "metadata": {},
   "source": [
    "解答：http://tinyurl.com/zx7o2v9 一行目"
   ]
  },
  {
   "cell_type": "markdown",
   "metadata": {},
   "source": [
    "３. 変数が10未満だったらメッセージを出力しよう。10以上だったら、別のメッセージを出力しよう。"
   ]
  },
  {
   "cell_type": "code",
   "execution_count": 10,
   "metadata": {},
   "outputs": [
    {
     "name": "stdout",
     "output_type": "stream",
     "text": [
      "x is greater than or equal to 10\n"
     ]
    }
   ],
   "source": [
    "x =  11\n",
    "if x <  10:\n",
    "    print(\"x is less than 10\")\n",
    "else:\n",
    "    print(\"x is greater than or equal to 10\")"
   ]
  },
  {
   "cell_type": "markdown",
   "metadata": {},
   "source": [
    "解答：http://tinyurl.com/zx7o2v9 二行目"
   ]
  },
  {
   "cell_type": "markdown",
   "metadata": {},
   "source": [
    "４. 変数が10以下だったらメッセージを出力しよう。10より大きく25以下だったら、別のメッセージを出力しよう。25より大きかったらさらに別のメッセージを出力しよう。"
   ]
  },
  {
   "cell_type": "code",
   "execution_count": 11,
   "metadata": {},
   "outputs": [
    {
     "name": "stdout",
     "output_type": "stream",
     "text": [
      "x is greater than 10, but less than or equal to 25.\n"
     ]
    }
   ],
   "source": [
    "x = 15\n",
    "\n",
    "if x <=  10:\n",
    "    print(\"x is less than or equal to 10.\")\n",
    "elif x <= 25:\n",
    "    print(\"x is greater than 10, but less than or equal to 25.\")\n",
    "else:\n",
    "    print(\"x is greater than 25.\")"
   ]
  },
  {
   "cell_type": "markdown",
   "metadata": {},
   "source": [
    "解答：http://tinyurl.com/zx7o2v9 三行目"
   ]
  },
  {
   "cell_type": "markdown",
   "metadata": {},
   "source": [
    "５. 2つの値で割り算して、その余りを出力しよう。"
   ]
  },
  {
   "cell_type": "code",
   "execution_count": null,
   "metadata": {},
   "outputs": [],
   "source": []
  },
  {
   "cell_type": "markdown",
   "metadata": {},
   "source": [
    "解答：http://tinyurl.com/zx7o2v9 四行目"
   ]
  },
  {
   "cell_type": "markdown",
   "metadata": {},
   "source": [
    "６. ２つの値で割り算して、その商を出力しよう。"
   ]
  },
  {
   "cell_type": "code",
   "execution_count": null,
   "metadata": {},
   "outputs": [],
   "source": []
  },
  {
   "cell_type": "markdown",
   "metadata": {},
   "source": [
    "解答：http://tinyurl.com/zx7o2v9 五行目"
   ]
  },
  {
   "cell_type": "markdown",
   "metadata": {},
   "source": [
    "７. 数字を入力値として受け取り、その数字を２乗した戻り値を返す関数を書いてみよう。"
   ]
  },
  {
   "cell_type": "code",
   "execution_count": null,
   "metadata": {},
   "outputs": [],
   "source": [
    "def squared(x):\n",
    "    return x ** 〇\n",
    "\n",
    "print(squared(〇))"
   ]
  },
  {
   "cell_type": "markdown",
   "metadata": {},
   "source": [
    "解答：http://tinyurl.com/hkzgqrv 一行目"
   ]
  },
  {
   "cell_type": "markdown",
   "metadata": {},
   "source": [
    "８. ３つの必須引数と２つのオプション引数がある関数を書いてみよう。"
   ]
  },
  {
   "cell_type": "code",
   "execution_count": null,
   "metadata": {},
   "outputs": [],
   "source": [
    "def add_mult(a,b,c,x= 〇,z= 〇 ):\n",
    "    return a + b + c * x * z\n",
    "\n",
    "result = add_mult(〇, 〇, 〇)#\n",
    "print(result)"
   ]
  },
  {
   "cell_type": "markdown",
   "metadata": {},
   "source": [
    "解答：http://tinyurl.com/hkzgqrv 三行目"
   ]
  },
  {
   "cell_type": "markdown",
   "metadata": {},
   "source": [
    "９. ２つの関数からなるプログラムを書いてみよう。１つ目の関数は整数を引数として受け取り、その整数を２で割って求められる整数を出力として返そう。２つ目の関数は整数を引数として受け取り、４で掛けた整数を返そう。プログラム内で、１つ目の関数を呼び、戻り値を変数として保存し、２つ目の関数の引数として渡そう。"
   ]
  },
  {
   "cell_type": "code",
   "execution_count": null,
   "metadata": {},
   "outputs": [],
   "source": [
    "def divide(x):\n",
    "    return 〇 \n",
    "\n",
    "\n",
    "def multiply(x):\n",
    "    return 〇\n",
    "\n",
    "y = divide( 〇 )\n",
    "z = multiply( 〇 )\n",
    "\n",
    "print( 〇 )"
   ]
  },
  {
   "cell_type": "markdown",
   "metadata": {},
   "source": [
    "解答：http://tinyurl.com/hkzgqrv 四行目"
   ]
  },
  {
   "cell_type": "markdown",
   "metadata": {},
   "source": [
    "１０. 文字列をfloat型に変換して戻り値とする関数を書いてみよう。起こり得る例外をキャッチする例外処理を書こう。"
   ]
  },
  {
   "cell_type": "code",
   "execution_count": null,
   "metadata": {},
   "outputs": [],
   "source": [
    "def convert(string):\n",
    "    〇 :\n",
    "        return float(string)\n",
    "    〇\n",
    "        print(\"Could not convert the string to a float.\")\n",
    "\n",
    "c = convert(\"〇\")#\n",
    "print(c)"
   ]
  },
  {
   "cell_type": "markdown",
   "metadata": {},
   "source": [
    "解答：http://tinyurl.com/hkzgqrv 五行目"
   ]
  }
 ],
 "metadata": {
  "kernelspec": {
   "display_name": "Python 3",
   "language": "python",
   "name": "python3"
  },
  "language_info": {
   "codemirror_mode": {
    "name": "ipython",
    "version": 3
   },
   "file_extension": ".py",
   "mimetype": "text/x-python",
   "name": "python",
   "nbconvert_exporter": "python",
   "pygments_lexer": "ipython3",
   "version": "3.7.4"
  }
 },
 "nbformat": 4,
 "nbformat_minor": 4
}
